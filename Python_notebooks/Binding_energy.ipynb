{
 "cells": [
  {
   "cell_type": "markdown",
   "id": "7a9154b9",
   "metadata": {},
   "source": [
    "# Binding energy\n",
    "\n",
    "Source of the original code: https://scipython.com/blog/nuclear-binding-energies-1/ \n",
    "\n",
    "The <b>binding energy</b> of a nucleus is the energy that would be required to split apart each of its constituent protons and neutrons (nucleons). This energy is due to the forces that hold the nucleus together, which may be thought of as a balance between the attractive strong nuclear force and the electromagnetic force (which is repulsive between the positively-charged protons). The binding energy manifests itself in a mass difference between the nucleus and the individual nucleons ($E=mc^2$) and the difference in binding energy between different nuclei is the energy released in the process of nuclear fusion and fission.\n",
    "\n",
    "In nuclear physics, the <b>semi-empirical mass formula (SEMF)</b> (sometimes also called the Weizsäcker formula, Bethe–Weizsäcker formula, or Bethe–Weizsäcker mass formula to distinguish it from the Bethe–Weizsäcker process) is used to approximate the mass of an atomic nucleus from its number of protons and neutrons. As the name suggests, it is based partly on theory and partly on empirical measurements. The formula represents the liquid-drop model proposed by George Gamow, which can account for most of the terms in the formula and gives rough estimates for the values of the coefficients. It was first formulated in 1935 by German physicist Carl Friedrich von Weizsäcker, and although refinements have been made to the coefficients over the years, the structure of the formula remains the same today.\n",
    "\n",
    "The formula gives a good approximation for atomic masses and thereby other effects. However, it fails to explain the existence of lines of greater binding energy at certain numbers of protons and neutrons. These numbers, known as magic numbers, are the foundation of the nuclear shell model.\n",
    "\n",
    "https://en.wikipedia.org/wiki/Semi-empirical_mass_formula"
   ]
  },
  {
   "cell_type": "code",
   "execution_count": 1,
   "id": "b41a8725",
   "metadata": {},
   "outputs": [],
   "source": [
    "import numpy as np\n",
    "import pandas as pd\n",
    "import matplotlib.pyplot as plt"
   ]
  },
  {
   "cell_type": "code",
   "execution_count": 2,
   "id": "76041da2",
   "metadata": {},
   "outputs": [],
   "source": [
    "def SEMF(Z, N):\n",
    "    \"\"\"Calculate the average binding energy per nucleon for nucleus Z, N.\n",
    "\n",
    "    Calculate the average nuclear binding energy per nucleon for a nucleus\n",
    "    with Z protons and N neutrons, using the semi-empirical mass formula and\n",
    "    parameters of J. W. Rohlf, \"Modern Physics from alpha to Z0\", Wiley (1994).\n",
    "\n",
    "    Z and N can be NumPy arrays or scalar values.\n",
    "\n",
    "    \"\"\"\n",
    "\n",
    "    # The parameterization of the SEMF to use.\n",
    "    aV, aS, aC, aA, delta = 15.75, 17.8, 0.711, 23.7, 11.18\n",
    "\n",
    "    # Covert Z and N to NumPy arrays if they aren't already\n",
    "    Z, N = np.atleast_1d(Z), np.atleast_1d(N)\n",
    "    # Total number of nucleons\n",
    "    A = Z + N\n",
    "\n",
    "    # The pairing term is -delta for Z and N both odd, +delta for Z and N both\n",
    "    # even, and 0 otherwise. Create an array of the sign of this term so that\n",
    "    # we can vectorize the calculation across the arrays Z and N.\n",
    "    sgn = np.zeros(Z.shape)\n",
    "    sgn[(Z%2) & (N%2)] = -1\n",
    "    sgn[~(Z%2) & ~(N%2)] = +1\n",
    "\n",
    "    # The SEMF for the average binding energy per nucleon.\n",
    "    E = (aV - aS / A**(1/3) - aC * Z**2 / A**(4/3) -\n",
    "         aA * (A-2*Z)**2/A**2 + sgn * delta/A**(3/2))\n",
    "\n",
    "    # Return E as a scalar or array as appropriate to the input Z.\n",
    "    if Z.shape[0] == 1:\n",
    "        return float(E)\n",
    "    return E"
   ]
  },
  {
   "cell_type": "code",
   "execution_count": 4,
   "id": "ba1b3a53",
   "metadata": {},
   "outputs": [],
   "source": [
    "# Read the experimental data into a Pandas DataFrame.\n",
    "df = pd.read_fwf('mass.mas03', usecols=(2,3,4,11),\n",
    "              widths=(1,3,5,5,5,1,3,4,1,13,11,11,9,1,2,11,9,1,3,1,12,11,1),\n",
    "              skiprows=39, header=None,\n",
    "              index_col=False)\n",
    "df.columns = ('N', 'Z', 'A', 'avEbind')\n",
    "\n",
    "# Extrapolated values are indicated by '#' in place of the decimal place, so\n",
    "# the avEbind column won't be numeric. Coerce to float and drop these entries.\n",
    "df['avEbind'] = pd.to_numeric(df['avEbind'], errors='coerce')\n",
    "df = df.dropna()\n",
    "# Also convert from keV to MeV.\n",
    "df['avEbind'] /= 1000\n",
    "\n",
    "# Group the DataFrame by nucleon number, A.\n",
    "gdf = df.groupby('A')\n",
    "# Find the rows of the grouped DataFrame with the maximum binding energy.\n",
    "maxavEbind = gdf.apply(lambda t: t[t.avEbind==t.avEbind.max()])\n",
    "\n",
    "# Add a column of estimated binding energies calculated using the SEMF.\n",
    "maxavEbind['Eapprox'] = SEMF(maxavEbind['Z'], maxavEbind['N'])\n",
    "\n"
   ]
  },
  {
   "cell_type": "code",
   "execution_count": 28,
   "id": "a303fe72",
   "metadata": {},
   "outputs": [
    {
     "data": {
      "image/png": "[encoded data removed]",
      "text/plain": [
       "<Figure size 792x432 with 1 Axes>"
      ]
     },
     "metadata": {
      "needs_background": "light"
     },
     "output_type": "display_data"
    }
   ],
   "source": [
    "# Generate a plot comparing the experimental with the SEMF values.\n",
    "\n",
    "fig, ax = plt.subplots(figsize=(11,6))\n",
    "ax.plot(maxavEbind['A'], maxavEbind['avEbind'], marker='.', markersize=10, linestyle='', label='Ame2003')\n",
    "ax.plot(maxavEbind['A'], maxavEbind['Eapprox'], lw=2, label='SEMF')\n",
    "ax.set_xlabel('A = N + Z', fontsize=20)\n",
    "ax.set_ylabel('B [MeV]', fontsize=20)\n",
    "ax.legend(fontsize=15)\n",
    "# We don't expect the SEMF to work very well for light nuclei with small\n",
    "# average binding energies, so display only data relevant to avEbind > 7 MeV.\n",
    "ax.set_ylim(0,9)\n",
    "plt.show()"
   ]
  },
  {
   "cell_type": "code",
   "execution_count": null,
   "id": "a87b8aa0",
   "metadata": {},
   "outputs": [],
   "source": []
  }
 ],
 "metadata": {
  "kernelspec": {
   "display_name": "Python 3 (ipykernel)",
   "language": "python",
   "name": "python3"
  },
  "language_info": {
   "codemirror_mode": {
    "name": "ipython",
    "version": 3
   },
   "file_extension": ".py",
   "mimetype": "text/x-python",
   "name": "python",
   "nbconvert_exporter": "python",
   "pygments_lexer": "ipython3",
   "version": "3.8.8"
  }
 },
 "nbformat": 4,
 "nbformat_minor": 5
}
